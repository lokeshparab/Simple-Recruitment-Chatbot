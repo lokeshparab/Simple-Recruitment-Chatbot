{
  "nbformat": 4,
  "nbformat_minor": 0,
  "metadata": {
    "colab": {
      "name": "Recruitment Chatbot.ipynb",
      "provenance": [],
      "collapsed_sections": [],
      "authorship_tag": "ABX9TyMTkg/+VK0Y2l2LJtHijDKK",
      "include_colab_link": true
    },
    "kernelspec": {
      "name": "python3",
      "display_name": "Python 3"
    },
    "language_info": {
      "name": "python"
    }
  },
  "cells": [
    {
      "cell_type": "markdown",
      "metadata": {
        "id": "view-in-github",
        "colab_type": "text"
      },
      "source": [
        "<a href=\"https://colab.research.google.com/github/lokeshparab/Simple-Recruitment-Chatbot/blob/main/Recruitment_Chatbot.ipynb\" target=\"_parent\"><img src=\"https://colab.research.google.com/assets/colab-badge.svg\" alt=\"Open In Colab\"/></a>"
      ]
    },
    {
      "cell_type": "markdown",
      "metadata": {
        "id": "ghKXMG3gSc5n"
      },
      "source": [
        "#**Database**"
      ]
    },
    {
      "cell_type": "markdown",
      "metadata": {
        "id": "8uZTEGsIeLwQ"
      },
      "source": [
        "##**Job details**"
      ]
    },
    {
      "cell_type": "code",
      "metadata": {
        "id": "GaxQhTiCNdqb"
      },
      "source": [
        "database = {\n",
        "    'Analytics':{\n",
        "        1:{\n",
        "            'company_name':'Connect And Heal',\n",
        "           'role':'Business Analyst',\n",
        "           'sal':[4.2, 4.5],\n",
        "           'loc':['Chennai', 'Delhi', 'Kolkata', 'Pune', 'Bangalore', 'Hyderabad', 'Mumbai']\n",
        "        },\n",
        "        2:{\n",
        "            'company_name':'American Express',\n",
        "           'role':'Programmer Analyst/Product Development Analyst',\n",
        "           'sal':[11, 15],\n",
        "           'loc':['Gurgaon', 'Bangalore']\n",
        "        },\n",
        "        3:{\n",
        "            'company_name':'American Express',\n",
        "           'role':'Management Trainee/Business Analyst',\n",
        "           'sal':[15, 20],\n",
        "           'loc':['Gurgaon', 'Bangalore']\n",
        "        },\n",
        "        4:{\n",
        "            'company_name':'DataVinci Private Limited',\n",
        "           'role':'Web Analytics Developer',\n",
        "           'sal':[4.99, 5],\n",
        "           'loc':['Remote']\n",
        "        },\n",
        "        5:{\n",
        "            'company_name':'CelebratingLife Infotech',\n",
        "           'role':'Junior Analyst - Research',\n",
        "           'sal':[3, 3.01],\n",
        "           'loc':['Mumbai']\n",
        "        }\n",
        "    },\n",
        "\n",
        "    'Web Development':{\n",
        "        1:{\n",
        "            'company_name':'GharChalo',\n",
        "           'role':'Angular 11 Web Developer',\n",
        "           'sal':[3, 0],\n",
        "           'loc':['Remote']\n",
        "        },\n",
        "        2:{\n",
        "            'company_name':'Pickcel',\n",
        "           'role':'Junior Angular.js Developer',\n",
        "           'sal':[3 ,4],\n",
        "           'loc':['Remote']\n",
        "        },\n",
        "        3:{\n",
        "            'company_name':'Wono Inc',\n",
        "           'role':'Web Developer',\n",
        "           'sal':[5 ,6.5],\n",
        "           'loc':['Remote']\n",
        "        },\n",
        "        4:{\n",
        "            'company_name':'Wono Inc',\n",
        "           'role':'Web Developer',\n",
        "           'sal':[5 ,6.5],\n",
        "           'loc':['Remote']\n",
        "        },\n",
        "\n",
        "    },\n",
        "    'Software Development':{\n",
        "        1:{\n",
        "            'company_name':'SNet Labs Private Limited',\n",
        "           'role':'Trainee Software Engineer',\n",
        "           'sal':[3 ,3.2],\n",
        "           'loc':['Delhi']\n",
        "        },\n",
        "        2:{\n",
        "            'company_name':'Razor Edge Analytics Private Limited',\n",
        "           'role':'SDE - Software Development Engineer',\n",
        "           'sal':[5 ,7],\n",
        "           'loc':['Mumbai']\n",
        "        },\n",
        "        3:{\n",
        "            'company_name':'Binmile Technologies Private Limited',\n",
        "           'role':'Junior Software Developer',\n",
        "           'sal':[3 ,3.5],\n",
        "           'loc':['Noida']\n",
        "        },\n",
        "        4:{\n",
        "            'company_name':'Vitra.ai',\n",
        "           'role':'Software Developer',\n",
        "           'sal':[6.6 ,0],\n",
        "           'loc':['Bangalore']\n",
        "        },\n",
        "        5:{\n",
        "            'company_name':'TechCompiler Data Systems',\n",
        "           'role':'Junior Software Developer',\n",
        "           'sal':[3 ,3.6],\n",
        "           'loc':['Noida']\n",
        "        },\n",
        "        6:{\n",
        "            'company_name':'Learnyst',\n",
        "           'role':'Associate Software Developer',\n",
        "           'sal':[4.8 ,6],\n",
        "           'loc':['Bangalore']\n",
        "        },\n",
        "        7:{\n",
        "            'company_name':'IoTfy Solutions Private Limited',\n",
        "           'role':'Full Stack Developer',\n",
        "           'sal':[4.8 ,6],\n",
        "           'loc':['Ghaziabad', 'Gurgaon', 'Noida', 'Delhi']\n",
        "        },\n",
        "    },\n",
        "    'Accounts':{\n",
        "        1:{\n",
        "            'company_name':'Wono Inc',\n",
        "           'role':'Credit Analyst',\n",
        "           'sal':[5.2 ,5.9],\n",
        "           'loc':['Ghaziabad', 'Gurgaon', 'Noida']\n",
        "        },\n",
        "        2:{\n",
        "            'company_name':'Janaswamy Associates',\n",
        "           'role':'Audit & Support Executive',\n",
        "           'sal':[3 ,0],\n",
        "           'loc':['Mumbai']\n",
        "        },\n",
        "        3:{\n",
        "            'company_name':'MentorBoxx',\n",
        "           'role':'Finance Executive',\n",
        "           'sal':[3.5 ,6.7],\n",
        "           'loc':['Mumbai','Pune']\n",
        "        },\n",
        "        4:{\n",
        "            'company_name':'Mysharedcfo.com (Garg Financial Management Consultant Private Limited)',\n",
        "           'role':'Analyst',\n",
        "           'sal':[4.8 ,6],\n",
        "           'loc':['Noida', 'Delhi']\n",
        "        },\n",
        "    },\n",
        "    'Animation':{\n",
        "        1:{\n",
        "            'company_name':'The Happy Slate',\n",
        "           'role':'Animation Director',\n",
        "           'sal':[4 ,6],\n",
        "           'loc':['Remote']\n",
        "        },\n",
        "        2:{\n",
        "            'company_name':'Triny.io',\n",
        "           'role':'Video Maker/Editor',\n",
        "           'sal':[3 ,5],\n",
        "           'loc':['Remote']\n",
        "        },\n",
        "        3:{\n",
        "            'company_name':'MSG Toons',\n",
        "           'role':'3D Animator',\n",
        "           'sal':[3 ,3.1],\n",
        "           'loc':['Delhi']\n",
        "        },\n",
        "        4:{\n",
        "            'company_name':'Pasay Invento',\n",
        "           'role':'Graphic Designer',\n",
        "           'sal':[3 ,0],\n",
        "           'loc':['Pune']\n",
        "        },\n",
        "        5:{\n",
        "            'company_name':'Yellow Umbrella Creative',\n",
        "           'role':'Associate Graphic Designer',\n",
        "           'sal':[3 ,4],\n",
        "           'loc':['Mumbai']\n",
        "        },\n",
        "        6:{\n",
        "            'company_name':'T4G Labs - Impact Tech Fund',\n",
        "           'role':'Associate Graphic Designer',\n",
        "           'sal':[3 ,3.5],\n",
        "           'loc':['Bangalore']\n",
        "        },\n",
        "        7:{\n",
        "            'company_name':'AssetPlus',\n",
        "           'role':'Graphic Designer',\n",
        "           'sal':[6 ,8],\n",
        "           'loc':['Chennai']\n",
        "        },\n",
        "        8:{\n",
        "            'company_name':'Socially Souled',\n",
        "           'role':'Graphic Designer',\n",
        "           'sal':[3 ,3.5],\n",
        "           'loc':['Gurgaon']\n",
        "        },\n",
        "        9:{\n",
        "            'company_name':'Enoki Hospitality',\n",
        "           'role':'Graphic Designer',\n",
        "           'sal':[3 ,0],\n",
        "           'loc':['Delhi']\n",
        "        }\n",
        "    },\n",
        "    'Backend Developer':{\n",
        "        1:{\n",
        "            'company_name':'NurtureLabs',\n",
        "           'role':'Backend Developer',\n",
        "           'sal':[5 ,7],\n",
        "           'loc':['Remote']\n",
        "        },\n",
        "        2:{\n",
        "            'company_name':'RavGins International Private Limited (Wobb.ai)',\n",
        "           'role':'Senior Backend & AWS Serverless Developer',\n",
        "           'sal':[6 ,12],\n",
        "           'loc':['Remote']\n",
        "        },\n",
        "        3:{\n",
        "            'company_name':'Classcard',\n",
        "           'role':'Backend Developer',\n",
        "           'sal':[4 ,6],\n",
        "           'loc':['Remote']\n",
        "        },\n",
        "        4:{\n",
        "            'company_name':'ZuPay',\n",
        "           'role':'Backend Developer',\n",
        "           'sal':[4.5 ,7.5],\n",
        "           'loc':['Bangalore']\n",
        "        },\n",
        "        5:{\n",
        "            'company_name':'Fish Data Technologies Private Limited',\n",
        "           'role':'Associate Backend Developer',\n",
        "           'sal':[3 ,0],\n",
        "           'loc':['Chennai']\n",
        "        },\n",
        "    },\n",
        "    'Embedded System':{\n",
        "        1:{\n",
        "            'company_name':'Startoon Labs Private Limited',\n",
        "           'role':'Embedded Engineer',\n",
        "           'sal':[4 ,4.8],\n",
        "           'loc':['Hyderabad']\n",
        "        },\n",
        "        2:{\n",
        "            'company_name':'Bipolar Factory',\n",
        "           'role':'IOT Engineer',\n",
        "           'sal':[4 ,6],\n",
        "           'loc':['Coimbatore']\n",
        "        },\n",
        "        3:{\n",
        "            'company_name':'GEOID VISTECH',\n",
        "           'role':'Embedded Firmware Engineer',\n",
        "           'sal':[6 ,8],\n",
        "           'loc':['Ahmedabad']\n",
        "        },\n",
        "    }\n",
        "}"
      ],
      "execution_count": 35,
      "outputs": []
    },
    {
      "cell_type": "code",
      "metadata": {
        "id": "H__wgk2wi3fm"
      },
      "source": [
        "import json as js"
      ],
      "execution_count": 36,
      "outputs": []
    },
    {
      "cell_type": "code",
      "metadata": {
        "id": "l0ni4TRVjBrA"
      },
      "source": [
        "fw = open('jobdetails.json','w')\n",
        "fw.write(js.dumps(database))\n",
        "fw.close()"
      ],
      "execution_count": 37,
      "outputs": []
    },
    {
      "cell_type": "code",
      "metadata": {
        "id": "lvsB2epZWeem"
      },
      "source": [
        "a = database.keys()"
      ],
      "execution_count": 38,
      "outputs": []
    },
    {
      "cell_type": "code",
      "metadata": {
        "colab": {
          "base_uri": "https://localhost:8080/"
        },
        "id": "b4un6_vVWjUJ",
        "outputId": "1d8777d2-9005-4a65-be24-c434b367a133"
      },
      "source": [
        "database['Accounts']"
      ],
      "execution_count": 39,
      "outputs": [
        {
          "output_type": "execute_result",
          "data": {
            "text/plain": [
              "{1: {'company_name': 'Wono Inc',\n",
              "  'loc': ['Ghaziabad', 'Gurgaon', 'Noida'],\n",
              "  'role': 'Credit Analyst',\n",
              "  'sal': [5.2, 5.9]},\n",
              " 2: {'company_name': 'Janaswamy Associates',\n",
              "  'loc': ['Mumbai'],\n",
              "  'role': 'Audit & Support Executive',\n",
              "  'sal': [3, 0]},\n",
              " 3: {'company_name': 'MentorBoxx',\n",
              "  'loc': ['Mumbai', 'Pune'],\n",
              "  'role': 'Finance Executive',\n",
              "  'sal': [3.5, 6.7]},\n",
              " 4: {'company_name': 'Mysharedcfo.com (Garg Financial Management Consultant Private Limited)',\n",
              "  'loc': ['Noida', 'Delhi'],\n",
              "  'role': 'Analyst',\n",
              "  'sal': [4.8, 6]}}"
            ]
          },
          "metadata": {},
          "execution_count": 39
        }
      ]
    },
    {
      "cell_type": "code",
      "metadata": {
        "colab": {
          "base_uri": "https://localhost:8080/"
        },
        "id": "s2Gas4mARc6B",
        "outputId": "a7ee5241-473a-4855-9492-dd92cf775e13"
      },
      "source": [
        "len(database['Accounts'])"
      ],
      "execution_count": 40,
      "outputs": [
        {
          "output_type": "execute_result",
          "data": {
            "text/plain": [
              "4"
            ]
          },
          "metadata": {},
          "execution_count": 40
        }
      ]
    },
    {
      "cell_type": "markdown",
      "metadata": {
        "id": "iZ-uErqgeSB1"
      },
      "source": [
        "##**Saving Details**\n",
        "    {\n",
        "    name:\n",
        "    age:\n",
        "    city : \n",
        "    ph_no :\n",
        "    email  :\n",
        "    gender :\n",
        "    \n",
        "    job type :\n",
        "    job_id :\n",
        "    }"
      ]
    },
    {
      "cell_type": "code",
      "metadata": {
        "id": "moR0__rQjRyx"
      },
      "source": [
        "saving_details={}\n",
        "fw = open('Saving_details.json','w')\n",
        "fw.write(js.dumps(saving_details))\n",
        "fw.close()"
      ],
      "execution_count": 41,
      "outputs": []
    },
    {
      "cell_type": "code",
      "metadata": {
        "colab": {
          "base_uri": "https://localhost:8080/"
        },
        "id": "WSubB_czjo6l",
        "outputId": "40e54496-f089-4da0-d489-f343fde6c9d4"
      },
      "source": [
        "fw = open('Saving_details.json','r')\n",
        "r = js.loads(fw.read())\n",
        "fw.close()\n",
        "r"
      ],
      "execution_count": 42,
      "outputs": [
        {
          "output_type": "execute_result",
          "data": {
            "text/plain": [
              "{}"
            ]
          },
          "metadata": {},
          "execution_count": 42
        }
      ]
    },
    {
      "cell_type": "markdown",
      "metadata": {
        "id": "S7gRC1p3SmiW"
      },
      "source": [
        "#**Required Function**"
      ]
    },
    {
      "cell_type": "code",
      "metadata": {
        "id": "fFvv4T0ESmQx"
      },
      "source": [
        "def no_of_jobs():\n",
        "  sum=0\n",
        "  for i in database.keys():\n",
        "    sum += len(database[i])\n",
        "  return sum"
      ],
      "execution_count": 43,
      "outputs": []
    },
    {
      "cell_type": "code",
      "metadata": {
        "id": "MLNg9qMuT7Ze"
      },
      "source": [
        "def categories_display(cate):\n",
        "  for i,j in enumerate(cate,1):\n",
        "    print('     ',i,j)\n",
        "  print(\"      Enter your choice\")"
      ],
      "execution_count": 44,
      "outputs": []
    },
    {
      "cell_type": "code",
      "metadata": {
        "colab": {
          "base_uri": "https://localhost:8080/"
        },
        "id": "Sk_aJUy5YHXv",
        "outputId": "c2556068-20da-4320-9b8f-e4ed2488809e"
      },
      "source": [
        "def jobs_display(cate,sal):\n",
        "  i=1\n",
        "  print(cate,sal)\n",
        "  hash={}\n",
        "  for k,v in database[cate].items():\n",
        "\n",
        "    if database[cate][k]['sal'][0]>=sal:\n",
        "      hash[i]=k\n",
        "      print('     ',i,'Role     :',database[cate][k]['role'])\n",
        "      print('        Company  :',database[cate][k]['company_name'])\n",
        "      print('        Location :',', '.join(database[cate][k]['loc']))\n",
        "      print('        Salary   :',database[cate][k]['sal'][0],end=' ')\n",
        "      i+=1\n",
        "\n",
        "      if database[cate][k]['sal'][1] != 0: print('--',database[cate][k]['sal'][1],end=' ')\n",
        "      print('LPA')\n",
        "      print()\n",
        "  return hash\n",
        "\n",
        "jobs_display('Accounts',3.1)"
      ],
      "execution_count": 45,
      "outputs": [
        {
          "output_type": "stream",
          "name": "stdout",
          "text": [
            "Accounts 3.1\n",
            "      1 Role     : Credit Analyst\n",
            "        Company  : Wono Inc\n",
            "        Location : Ghaziabad, Gurgaon, Noida\n",
            "        Salary   : 5.2 -- 5.9 LPA\n",
            "\n",
            "      2 Role     : Finance Executive\n",
            "        Company  : MentorBoxx\n",
            "        Location : Mumbai, Pune\n",
            "        Salary   : 3.5 -- 6.7 LPA\n",
            "\n",
            "      3 Role     : Analyst\n",
            "        Company  : Mysharedcfo.com (Garg Financial Management Consultant Private Limited)\n",
            "        Location : Noida, Delhi\n",
            "        Salary   : 4.8 -- 6 LPA\n",
            "\n"
          ]
        },
        {
          "output_type": "execute_result",
          "data": {
            "text/plain": [
              "{1: 1, 2: 3, 3: 4}"
            ]
          },
          "metadata": {},
          "execution_count": 45
        }
      ]
    },
    {
      "cell_type": "code",
      "metadata": {
        "colab": {
          "base_uri": "https://localhost:8080/",
          "height": 35
        },
        "id": "x-GkMruc2Fzh",
        "outputId": "6d42018a-691b-4b63-8453-0708cacfedad"
      },
      "source": [
        "\"\"\"!pip install twilio\"\"\""
      ],
      "execution_count": 46,
      "outputs": [
        {
          "output_type": "execute_result",
          "data": {
            "application/vnd.google.colaboratory.intrinsic+json": {
              "type": "string"
            },
            "text/plain": [
              "'!pip install twilio'"
            ]
          },
          "metadata": {},
          "execution_count": 46
        }
      ]
    },
    {
      "cell_type": "code",
      "metadata": {
        "colab": {
          "base_uri": "https://localhost:8080/",
          "height": 69
        },
        "id": "2t_IVIZ41txe",
        "outputId": "69b4116d-2cc9-40ee-8aab-284eefb9b8c8"
      },
      "source": [
        "'''from twilio.rest import Client\n",
        "\n",
        "# Your Account Sid and Auth Token from twilio.com/user/account\n",
        "# Store them in the environment variables:\n",
        "# \"TWILIO_ACCOUNT_SID\" and \"TWILIO_AUTH_TOKEN\"\n",
        "client = Client()\n",
        "\n",
        "number = client.lookups.phone_numbers(\"+917021271651\").fetch(type=\"carrier\")\n",
        "print(number.carrier['name'])  # => Sprint Spectrum, L.P.'''\n"
      ],
      "execution_count": 47,
      "outputs": [
        {
          "output_type": "execute_result",
          "data": {
            "application/vnd.google.colaboratory.intrinsic+json": {
              "type": "string"
            },
            "text/plain": [
              "'from twilio.rest import Client\\n\\n# Your Account Sid and Auth Token from twilio.com/user/account\\n# Store them in the environment variables:\\n# \"TWILIO_ACCOUNT_SID\" and \"TWILIO_AUTH_TOKEN\"\\nclient = Client()\\n\\nnumber = client.lookups.phone_numbers(\"+917021271651\").fetch(type=\"carrier\")\\nprint(number.carrier[\\'name\\'])  # => Sprint Spectrum, L.P.'"
            ]
          },
          "metadata": {},
          "execution_count": 47
        }
      ]
    },
    {
      "cell_type": "markdown",
      "metadata": {
        "id": "_M6PQNtnSh92"
      },
      "source": [
        "#**ChatBot**"
      ]
    },
    {
      "cell_type": "code",
      "metadata": {
        "colab": {
          "base_uri": "https://localhost:8080/"
        },
        "id": "iJKyRJaXKVTU",
        "outputId": "1f4e3ee2-d239-4fb3-874e-8b9755c4c3dd"
      },
      "source": [
        "print('Bot : Hello and welcome to Awesome Jobs.')\n",
        "print('Bot : We will together find a better job for you')\n",
        "print('Bot : Tell me, what is your full name?')\n",
        "print('*'*50)\n",
        "\n",
        "full_name = input('User: ')\n",
        "print('*'*50)\n",
        "\n",
        "while len(full_name.split())<2: \n",
        "  print('Bot : Please give full name. e.g.. Isaac Newton: ')\n",
        "  print('*'*50)\n",
        "  full_name = input('User: ')\n",
        "  print('*'*50)\n",
        "\n",
        "print('Bot : Which city are you from?')\n",
        "print('*'*50)\n",
        "\n",
        "city = input('User: ')\n",
        "print('*'*50)\n",
        "\n",
        "print('Bot : Enter your Age')\n",
        "print('*'*50)\n",
        "\n",
        "age = int(input('User: '))\n",
        "print('*'*50)\n",
        "\n",
        "\n",
        "\n",
        "while True:\n",
        "  print('Bot : What is your Gender:')\n",
        "  print('      1.Male')\n",
        "  print('      2.Female')\n",
        "  print('*'*50)\n",
        "\n",
        "  gender = int(input('User: '))\n",
        "  print('*'*50)\n",
        "\n",
        "  if gender<1 :\n",
        "    print('Bot : Enter the valid input') \n",
        "    continue\n",
        "  genders =['Male','Female']\n",
        "  try: \n",
        "    gender = genders[gender-1]\n",
        "    break\n",
        "  except:\n",
        "    print('Bot : Enter the valid input')\n",
        "\n",
        "print(gender)\n",
        "\n",
        "categories = list(database.keys())\n",
        "print('Bot : This is exciting.')\n",
        "print('Bot : I already have found',no_of_jobs(),'jobs that you might like.')\n",
        "print('Bot : What kind of jobs do you like?')\n",
        "categories_display(categories)\n",
        "print('*'*50)\n",
        "\n",
        "cate = int(input('User: '))\n",
        "print('*'*50)\n",
        "\n",
        "job_type = categories[cate-1]\n",
        "print('Bot : There are', len(database[job_type]), 'jobs for', job_type)\n",
        "print('Bot : What is your salary expectation(CTC) in LPA')\n",
        "print('*'*50)\n",
        "\n",
        "sal = float(input('User: '))\n",
        "print('*'*50)\n",
        "\n",
        "print('Bot : List of jobs:')\n",
        "hash = jobs_display(job_type,sal)\n",
        "print(\"     -1          : Exit\")\n",
        "print('Bot : Enter your choice or type -1 for exit.')\n",
        "print('*'*50)\n",
        "\n",
        "apply = int(input('User: '))\n",
        "print('*'*50)\n",
        "\n",
        "if apply!=-1:\n",
        "  print('Bot : Thank for Applying Job, Please give your personal details for confirmation')\n",
        "  \n",
        "  print('Bot : Enter your email id')\n",
        "  print('*'*50)\n",
        "\n",
        "  email = input('User: ')\n",
        "  print('*'*50)\n",
        "\n",
        "  print('Bot : Enter your Contact number')\n",
        "  print('*'*50)\n",
        "\n",
        "  ph_no = input('User: ')\n",
        "  print('*'*50)\n",
        "\n",
        "  ##Saving details\n",
        "  fw = open('Saving_details.json','r')\n",
        "  record = js.loads(fw.read())\n",
        "  fw.close()\n",
        "\n",
        "  id = 1 if record=={} else max(record.keys)+1\n",
        "\n",
        "  record[id]={\n",
        "      'name': full_name,\n",
        "      'city': city,\n",
        "      'gender': gender,\n",
        "      'age': age,\n",
        "      'email': email,\n",
        "      'phone_no': ph_no,\n",
        "      'job type': job_type,\n",
        "      'job_id': hash[apply]\n",
        "  }\n",
        "\n",
        "  fw = open('Saving_details.json','w')\n",
        "  fw.write(js.dumps(record))\n",
        "  fw.close()\n",
        "\n",
        "  print('Bot : Your application has been successfully sent to Employer_name.')\n",
        "  print('Bot : The next step is to schedule your interview with them.')\n",
        "  print('Bot : The exployer will contact you to get more information about your job application')\n",
        "\n",
        "print(\"Bot : Thank you\")"
      ],
      "execution_count": 53,
      "outputs": [
        {
          "output_type": "stream",
          "name": "stdout",
          "text": [
            "Bot : Hello and welcome to Awesome Jobs.\n",
            "Bot : We will together find a better job for you\n",
            "Bot : Tell me, what is your full name?\n",
            "**************************************************\n",
            "User: l p\n",
            "**************************************************\n",
            "Bot : Which city are you from?\n",
            "**************************************************\n",
            "User: Mumbai\n",
            "**************************************************\n",
            "Bot : Enter your Age\n",
            "**************************************************\n",
            "User: 22\n",
            "**************************************************\n",
            "Bot : What is your Gender:\n",
            "      1.Male\n",
            "      2.Female\n",
            "**************************************************\n",
            "User: 1\n",
            "**************************************************\n",
            "Male\n",
            "Bot : This is exciting.\n",
            "Bot : I already have found 37 jobs that you might like.\n",
            "Bot : What kind of jobs do you like?\n",
            "      1 Analytics\n",
            "      2 Web Development\n",
            "      3 Software Development\n",
            "      4 Accounts\n",
            "      5 Animation\n",
            "      6 Backend Developer\n",
            "      7 Embedded System\n",
            "      Enter your choice\n",
            "**************************************************\n",
            "User: 3\n",
            "**************************************************\n",
            "Bot : There are 7 jobs for Software Development\n",
            "Bot : What is your salary expectation(CTC) in LPA\n",
            "**************************************************\n",
            "User: 5\n",
            "**************************************************\n",
            "Bot : List of jobs:\n",
            "Software Development 5.0\n",
            "      1 Role     : SDE - Software Development Engineer\n",
            "        Company  : Razor Edge Analytics Private Limited\n",
            "        Location : Mumbai\n",
            "        Salary   : 5 -- 7 LPA\n",
            "\n",
            "      2 Role     : Software Developer\n",
            "        Company  : Vitra.ai\n",
            "        Location : Bangalore\n",
            "        Salary   : 6.6 LPA\n",
            "\n",
            "     -1          : Exit\n",
            "Bot : Enter your choice or type -1 for exit.\n",
            "**************************************************\n",
            "User: 2\n",
            "**************************************************\n",
            "Bot : Thank for Applying Job, Please give your personal details for confirmation\n",
            "Bot : Enter your email id\n",
            "**************************************************\n",
            "User: lokesh@gmail.com\n",
            "**************************************************\n",
            "Bot : Enter your Contact number\n",
            "**************************************************\n",
            "User: 7021271651\n",
            "**************************************************\n",
            "Bot : Your application has been successfully sent to Employer_name.\n",
            "Bot : The next step is to schedule your interview with them.\n",
            "Bot : The exployer will contact you to get more information about your job application\n",
            "Bot : Thank you\n"
          ]
        }
      ]
    },
    {
      "cell_type": "code",
      "metadata": {
        "colab": {
          "base_uri": "https://localhost:8080/"
        },
        "id": "jPeV3BRg0Q0d",
        "outputId": "f41eaecc-bcea-4ea3-def9-2ce5121c9684"
      },
      "source": [
        ""
      ],
      "execution_count": 50,
      "outputs": [
        {
          "output_type": "execute_result",
          "data": {
            "text/plain": [
              "22"
            ]
          },
          "metadata": {},
          "execution_count": 50
        }
      ]
    },
    {
      "cell_type": "markdown",
      "metadata": {
        "id": "EQtq-9Xgq46R"
      },
      "source": [
        "# See Records"
      ]
    },
    {
      "cell_type": "code",
      "metadata": {
        "colab": {
          "base_uri": "https://localhost:8080/"
        },
        "id": "sNG8xf6aq_1E",
        "outputId": "58d00054-e0ca-46e9-ace4-c0c688638323"
      },
      "source": [
        "fw = open('Saving_details.json','r')\n",
        "r = js.loads(fw.read())\n",
        "fw.close()\n",
        "r"
      ],
      "execution_count": 54,
      "outputs": [
        {
          "output_type": "execute_result",
          "data": {
            "text/plain": [
              "{'1': {'age': 22,\n",
              "  'city': 'Mumbai',\n",
              "  'email': 'lokesh@gmail.com',\n",
              "  'gender': 'Male',\n",
              "  'job type': 'Software Development',\n",
              "  'job_id': 4,\n",
              "  'name': 'l p',\n",
              "  'phone_no': '7021271651'}}"
            ]
          },
          "metadata": {},
          "execution_count": 54
        }
      ]
    },
    {
      "cell_type": "code",
      "metadata": {
        "id": "Vt9SnhhorAie"
      },
      "source": [
        ""
      ],
      "execution_count": null,
      "outputs": []
    }
  ]
}